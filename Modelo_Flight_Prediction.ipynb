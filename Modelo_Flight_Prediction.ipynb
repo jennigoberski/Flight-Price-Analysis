{
  "nbformat": 4,
  "nbformat_minor": 0,
  "metadata": {
    "colab": {
      "provenance": [],
      "gpuType": "T4"
    },
    "kernelspec": {
      "name": "python3",
      "display_name": "Python 3"
    },
    "language_info": {
      "name": "python"
    },
    "accelerator": "GPU"
  },
  "cells": [
    {
      "cell_type": "code",
      "execution_count": null,
      "metadata": {
        "colab": {
          "base_uri": "https://localhost:8080/"
        },
        "id": "Msu4mcfDY4jl",
        "outputId": "b3f76cd1-fc08-44e5-d553-24683b27bce3"
      },
      "outputs": [
        {
          "output_type": "stream",
          "name": "stdout",
          "text": [
            "Drive already mounted at /content/drive; to attempt to forcibly remount, call drive.mount(\"/content/drive\", force_remount=True).\n"
          ]
        }
      ],
      "source": [
        "import pandas as pd\n",
        "from sklearn.model_selection import train_test_split, GridSearchCV\n",
        "from sklearn.preprocessing import OneHotEncoder, StandardScaler\n",
        "from sklearn.compose import ColumnTransformer\n",
        "from sklearn.pipeline import Pipeline\n",
        "from xgboost import XGBRegressor\n",
        "from sklearn.metrics import mean_absolute_error\n",
        "import joblib\n",
        "\n",
        "from google.colab import drive\n",
        "drive.mount('/content/drive')"
      ]
    },
    {
      "cell_type": "code",
      "source": [
        "file_path = '/content/drive/MyDrive/Colab Notebooks/dataset.csv'\n",
        "data = pd.read_csv(file_path)\n",
        "\n",
        "data['stops'] = data['stops'].map({'zero': 0, 'one': 1, 'two_or_more': 2})\n",
        "\n",
        "data['class'] = data['class'].map({'Economy': 0, 'Business': 1})\n",
        "\n",
        "X = data[['airline', 'departure_time', 'arrival_time', 'source_city',\n",
        "          'destination_city', 'stops', 'class', 'days_left']]\n",
        "y = data['price']\n",
        "\n",
        "numeric_features = ['days_left', 'stops']\n",
        "categorical_features = ['airline', 'departure_time', 'arrival_time', 'source_city', 'destination_city', 'class']\n",
        "\n",
        "numeric_transformer = Pipeline(steps=[('scaler', StandardScaler())])\n",
        "\n",
        "categorical_transformer = Pipeline(steps=[('onehot', OneHotEncoder(handle_unknown='ignore'))])\n",
        "\n",
        "preprocessor = ColumnTransformer(\n",
        "    transformers=[('num', numeric_transformer, numeric_features),\n",
        "                  ('cat', categorical_transformer, categorical_features)])\n",
        "\n",
        "xgb_model = XGBRegressor(random_state=42, objective='reg:squarederror')\n",
        "\n",
        "model = Pipeline(steps=[('preprocessor', preprocessor), ('regressor', xgb_model)])\n",
        "\n",
        "param_grid = {\n",
        "    'regressor__n_estimators': [100, 200],\n",
        "    'regressor__max_depth': [3, 6, 10],\n",
        "    'regressor__learning_rate': [0.01, 0.1, 0.3],\n",
        "    'regressor__subsample': [0.8, 0.9, 1.0],\n",
        "    'regressor__colsample_bytree': [0.8, 0.9, 1.0]\n",
        "}\n",
        "\n",
        "grid_search = GridSearchCV(model, param_grid, cv=5, scoring='neg_mean_absolute_error', n_jobs=-1)\n",
        "\n",
        "X_train, X_test, y_train, y_test = train_test_split(X, y, test_size=0.2, random_state=42)\n",
        "\n",
        "grid_search.fit(X_train, y_train)\n",
        "\n",
        "best_model = grid_search.best_estimator_\n",
        "\n",
        "y_pred = best_model.predict(X_test)\n",
        "\n",
        "mae = mean_absolute_error(y_test, y_pred)\n",
        "print(f\"Mean Absolute Error: {mae}\")\n",
        "print(f\"Best Hyperparameters: {grid_search.best_params_}\")"
      ],
      "metadata": {
        "colab": {
          "base_uri": "https://localhost:8080/"
        },
        "id": "GiK2srGup7rJ",
        "outputId": "faf6dee4-4915-4295-bf9d-cda4aaf0f8f3"
      },
      "execution_count": null,
      "outputs": [
        {
          "output_type": "stream",
          "name": "stdout",
          "text": [
            "Mean Absolute Error: 1975.6288915196549\n",
            "Best Hyperparameters: {'regressor__colsample_bytree': 0.8, 'regressor__learning_rate': 0.1, 'regressor__max_depth': 10, 'regressor__n_estimators': 200, 'regressor__subsample': 1.0}\n"
          ]
        }
      ]
    },
    {
      "cell_type": "code",
      "source": [
        "joblib.dump(best_model, '/content/drive/MyDrive/Colab Notebooks/flight_price_model.pkl')"
      ],
      "metadata": {
        "id": "HAgffFqXduB6",
        "colab": {
          "base_uri": "https://localhost:8080/"
        },
        "outputId": "5295d053-a006-42a6-fe9a-3cb81492f27c"
      },
      "execution_count": null,
      "outputs": [
        {
          "output_type": "execute_result",
          "data": {
            "text/plain": [
              "['/content/drive/MyDrive/Colab Notebooks/flight_price_model.pkl']"
            ]
          },
          "metadata": {},
          "execution_count": 3
        }
      ]
    }
  ]
}